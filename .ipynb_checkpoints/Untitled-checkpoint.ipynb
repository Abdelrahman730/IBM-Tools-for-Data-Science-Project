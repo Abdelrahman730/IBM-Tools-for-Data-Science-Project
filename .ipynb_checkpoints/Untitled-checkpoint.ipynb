{
 "cells": [
  {
   "cell_type": "markdown",
   "id": "0ace483f",
   "metadata": {},
   "source": [
    "# My Jupyter Notebook on IBM Watson Studio"
   ]
  },
  {
   "cell_type": "markdown",
   "id": "62b1a9d3",
   "metadata": {},
   "source": [
    "# **Abdelrahman**\n",
    "### Game Developer"
   ]
  },
  {
   "cell_type": "markdown",
   "id": "1b5b0124",
   "metadata": {},
   "source": [
    "### *I am interested in data science because it will help me to reach my goals in game development*"
   ]
  },
  {
   "cell_type": "markdown",
   "id": "b0251887",
   "metadata": {},
   "source": [
    "### The following code will print all even numbers from 1 to 20"
   ]
  },
  {
   "cell_type": "code",
   "execution_count": 1,
   "id": "302e1be4",
   "metadata": {},
   "outputs": [
    {
     "name": "stdout",
     "output_type": "stream",
     "text": [
      "2\n",
      "4\n",
      "6\n",
      "8\n",
      "10\n",
      "12\n",
      "14\n",
      "16\n",
      "18\n",
      "20\n"
     ]
    }
   ],
   "source": [
    "for i in range(1,21):\n",
    "    if (i % 2 == 0):\n",
    "        print(i)"
   ]
  },
  {
   "cell_type": "markdown",
   "id": "29d51174",
   "metadata": {},
   "source": [
    "## Code/syntax highlighting\n",
    "`for i in range(1,21):\n",
    "    if (i % 2 == 0):\n",
    "        print(i)`\n",
    "        \n",
    "## bulleted list\n",
    "\n",
    "* This is a bullet list\n",
    "* This is a bullet list\n",
    "* This is a bullet list\n",
    "\n",
    "## Horizontal Lines\n",
    "\n",
    "***\n",
    "\n",
    "Here is some important text!\n",
    "\n",
    "***\n",
    "\n",
    "## Strikethrough\n",
    "\n",
    "~~Strike~~\n",
    "\n",
    "## Number list\n",
    "\n",
    "1. And you can also create ordered lists\n",
    "2. by using numbers\n",
    "3. and listing new items in the lists \n",
    "4. on their own lines\n",
    "\n",
    "## Image render\n",
    "\n",
    "![Markdown Logo is here.](https://www.fullstackpython.com/img/logos/markdown.png)"
   ]
  },
  {
   "cell_type": "code",
   "execution_count": null,
   "id": "bb6bcf4a",
   "metadata": {},
   "outputs": [],
   "source": []
  }
 ],
 "metadata": {
  "kernelspec": {
   "display_name": "Python 3 (ipykernel)",
   "language": "python",
   "name": "python3"
  },
  "language_info": {
   "codemirror_mode": {
    "name": "ipython",
    "version": 3
   },
   "file_extension": ".py",
   "mimetype": "text/x-python",
   "name": "python",
   "nbconvert_exporter": "python",
   "pygments_lexer": "ipython3",
   "version": "3.10.2"
  }
 },
 "nbformat": 4,
 "nbformat_minor": 5
}
